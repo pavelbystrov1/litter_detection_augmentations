{
 "cells": [
  {
   "cell_type": "code",
   "execution_count": null,
   "id": "99bf7525",
   "metadata": {},
   "outputs": [],
   "source": [
    "import unittest\n",
    "\n",
    "def fill_aquarium(fishes):\n",
    "    if len(fishes) > 10:\n",
    "        raise ValueError(\"a maximum is 10\")\n",
    "    return {\"aquarium\": fishes}"
   ]
  },
  {
   "cell_type": "code",
   "execution_count": null,
   "id": "300503c0",
   "metadata": {},
   "outputs": [],
   "source": [
    "class TestSum(unittest.TestCase):\n",
    "    \n",
    "    def setUp(self):\n",
    "        self.has_water=False\n",
    "    \n",
    "    def test_fill_aquarium_exception(self):\n",
    "        too_many_fish = [\"guppi\"] * 22\n",
    "        with self.assertRaises(ValueError) as ctx:\n",
    "            fill_aquarium(too_many_fish)\n",
    "        self.assertEqual(str(ctx.exception), \"a maximum is 10\")\n",
    "        return\n",
    "    \n",
    "    def test_sum(self):\n",
    "        self.assertEqual(sum([2,7]), 9, \"should equal 9\")\n",
    "\n",
    "        \n",
    "unittest.main(argv=[''], verbosity=2, exit=False)"
   ]
  },
  {
   "cell_type": "code",
   "execution_count": null,
   "id": "025b8d36",
   "metadata": {},
   "outputs": [],
   "source": []
  },
  {
   "cell_type": "code",
   "execution_count": null,
   "id": "631952be",
   "metadata": {},
   "outputs": [],
   "source": []
  },
  {
   "cell_type": "code",
   "execution_count": null,
   "id": "ee02776c",
   "metadata": {},
   "outputs": [],
   "source": []
  },
  {
   "cell_type": "code",
   "execution_count": null,
   "id": "9b253c44",
   "metadata": {},
   "outputs": [],
   "source": []
  }
 ],
 "metadata": {
  "kernelspec": {
   "display_name": "Python 3",
   "language": "python",
   "name": "python3"
  },
  "language_info": {
   "codemirror_mode": {
    "name": "ipython",
    "version": 3
   },
   "file_extension": ".py",
   "mimetype": "text/x-python",
   "name": "python",
   "nbconvert_exporter": "python",
   "pygments_lexer": "ipython3",
   "version": "3.8.8"
  }
 },
 "nbformat": 4,
 "nbformat_minor": 5
}
